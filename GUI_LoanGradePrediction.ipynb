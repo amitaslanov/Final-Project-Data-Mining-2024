{
 "cells": [
  {
   "cell_type": "code",
   "execution_count": 1,
   "id": "5c218671-6385-496c-a66b-02fdd98309ac",
   "metadata": {},
   "outputs": [],
   "source": [
    "import pandas as pd\n",
    "from sklearn.model_selection import train_test_split\n",
    "from sklearn.preprocessing import LabelEncoder\n",
    "import matplotlib.pyplot as plt\n",
    "from sklearn.ensemble import GradientBoostingClassifier\n",
    "\n",
    "# Load the data from the provided URL\n",
    "url = 'https://github.com/amitaslanov/Final-Project-Data-Mining-2024/raw/main/LoanData.csv'\n",
    "data = pd.read_csv(url)"
   ]
  },
  {
   "cell_type": "code",
   "execution_count": 2,
   "id": "f5fd0124-c720-40cd-a96c-dcac167ac7a0",
   "metadata": {},
   "outputs": [],
   "source": [
    "# Initialize LabelEncoders\n",
    "le_state = LabelEncoder()\n",
    "le_emp_length = LabelEncoder()\n",
    "le_homeownership = LabelEncoder()\n",
    "le_verified_income = LabelEncoder()\n",
    "le_loan_purpose = LabelEncoder()\n",
    "le_loan_status = LabelEncoder()\n",
    "le_has_second_income = LabelEncoder()\n",
    "le_grade = LabelEncoder()"
   ]
  },
  {
   "cell_type": "code",
   "execution_count": 3,
   "id": "fa85f4ff-f20f-47a3-8af3-cecebf165f9d",
   "metadata": {},
   "outputs": [],
   "source": [
    "# Fit and transform categorical variables\n",
    "data['state'] = le_state.fit_transform(data['state'])\n",
    "data['emp_length'] = le_emp_length.fit_transform(data['emp_length'])\n",
    "data['homeownership'] = le_homeownership.fit_transform(data['homeownership'])\n",
    "data['verified_income'] = le_verified_income.fit_transform(data['verified_income'])\n",
    "data['loan_purpose'] = le_loan_purpose.fit_transform(data['loan_purpose'])\n",
    "data['loan_status'] = le_loan_status.fit_transform(data['loan_status'])\n",
    "data['has_second_income'] = le_has_second_income.fit_transform(data['has_second_income'])\n",
    "data['grade_encoded'] = le_grade.fit_transform(data['grade'])"
   ]
  },
  {
   "cell_type": "code",
   "execution_count": 4,
   "id": "83c33075-6550-4ee7-bb93-6bceddd397a3",
   "metadata": {},
   "outputs": [
    {
     "name": "stdout",
     "output_type": "stream",
     "text": [
      "State Encoding:\n",
      "{'AZ': 0, 'CA': 1, 'CT': 2, 'FL': 3, 'HI': 4, 'IL': 5, 'IN': 6, 'MA': 7, 'MD': 8, 'MI': 9, 'MN': 10, 'MO': 11, 'MS': 12, 'NE': 13, 'NH': 14, 'NJ': 15, 'NV': 16, 'NY': 17, 'OH': 18, 'RI': 19, 'SC': 20, 'TX': 21, 'VA': 22, 'WI': 23, 'WV': 24}\n",
      "\n",
      "Employment Length Encoding:\n",
      "{0.0: 0, 1.0: 1, 2.0: 2, 3.0: 3, 4.0: 4, 5.0: 5, 6.0: 6, 7.0: 7, 8.0: 8, 9.0: 9, 10.0: 10, nan: 11}\n",
      "\n",
      "Homeownership Encoding:\n",
      "{'mortgage': 0, 'own': 1, 'rent': 2}\n",
      "\n",
      "Verified Income Encoding:\n",
      "{'Not Verified': 0, 'Source Verified': 1, 'Verified': 2}\n",
      "\n",
      "Loan Purpose Encoding:\n",
      "{'car': 0, 'credit_card': 1, 'debt_consolidation': 2, 'home_improvement': 3, 'house': 4, 'other': 5, 'renewable_energy': 6, 'small_business': 7}\n",
      "\n",
      "Loan Status Encoding:\n",
      "{'Current': 0, 'Fully Paid': 1}\n",
      "\n",
      "Has Second Income Encoding:\n",
      "{False: 0, True: 1}\n",
      "\n",
      "Grade Encoding:\n",
      "{'A': 0, 'B': 1, 'C': 2, 'D': 3, 'E': 4}\n"
     ]
    }
   ],
   "source": [
    "# Print the mapping for each categorical variable\n",
    "print(\"State Encoding:\")\n",
    "print(dict(zip(le_state.classes_, le_state.transform(le_state.classes_))))\n",
    "print(\"\\nEmployment Length Encoding:\")\n",
    "print(dict(zip(le_emp_length.classes_, le_emp_length.transform(le_emp_length.classes_))))\n",
    "print(\"\\nHomeownership Encoding:\")\n",
    "print(dict(zip(le_homeownership.classes_, le_homeownership.transform(le_homeownership.classes_))))\n",
    "print(\"\\nVerified Income Encoding:\")\n",
    "print(dict(zip(le_verified_income.classes_, le_verified_income.transform(le_verified_income.classes_))))\n",
    "print(\"\\nLoan Purpose Encoding:\")\n",
    "print(dict(zip(le_loan_purpose.classes_, le_loan_purpose.transform(le_loan_purpose.classes_))))\n",
    "print(\"\\nLoan Status Encoding:\")\n",
    "print(dict(zip(le_loan_status.classes_, le_loan_status.transform(le_loan_status.classes_))))\n",
    "print(\"\\nHas Second Income Encoding:\")\n",
    "print(dict(zip(le_has_second_income.classes_, le_has_second_income.transform(le_has_second_income.classes_))))\n",
    "print(\"\\nGrade Encoding:\")\n",
    "print(dict(zip(le_grade.classes_, le_grade.transform(le_grade.classes_))))"
   ]
  },
  {
   "cell_type": "code",
   "execution_count": 5,
   "id": "9fa9223e-d908-403f-a488-ba72330fae86",
   "metadata": {},
   "outputs": [],
   "source": [
    "# Calculate the correlation matrix\n",
    "correlation_matrix = data.corr()\n",
    "\n",
    "# Extract the correlations with the 'grade_encoded' column\n",
    "target_correlation = correlation_matrix['grade_encoded']\n",
    "\n",
    "# Get the top 5 features with the highest absolute correlation values\n",
    "top_5_correlated_features = target_correlation.drop('grade_encoded').abs().sort_values(ascending=False).head(5)\n",
    "\n",
    "top_features_list = list(top_5_correlated_features.index)"
   ]
  },
  {
   "cell_type": "code",
   "execution_count": 6,
   "id": "bfc8649f-8b9e-493d-af31-57823810f61e",
   "metadata": {},
   "outputs": [],
   "source": [
    "X = data[top_features_list]\n",
    "y = data['grade']"
   ]
  },
  {
   "cell_type": "code",
   "execution_count": 7,
   "id": "08666dd6-ae2d-4c0d-ab12-f034047ded40",
   "metadata": {},
   "outputs": [
    {
     "data": {
      "text/plain": [
       "GradientBoostingClassifier(random_state=42)"
      ]
     },
     "execution_count": 7,
     "metadata": {},
     "output_type": "execute_result"
    }
   ],
   "source": [
    "# Split the data into training and testing sets\n",
    "X_train, X_test, y_train, y_test = train_test_split(X, y, test_size=0.2, random_state=42)\n",
    "\n",
    "# Train the model\n",
    "gbm = GradientBoostingClassifier(random_state=42)\n",
    "gbm.fit(X_train, y_train)"
   ]
  },
  {
   "cell_type": "code",
   "execution_count": 8,
   "id": "a7006ff2-1362-48ff-839d-d59906e61185",
   "metadata": {},
   "outputs": [],
   "source": [
    "import tkinter as tk\n",
    "from tkinter import ttk\n",
    "\n",
    "# Function to predict and display the score\n",
    "def predict_score():\n",
    "    # Get the values from the entry widgets\n",
    "    interest_rate = float(interest_rate_entry.get())\n",
    "    verified_income = float(verified_income_entry.get())\n",
    "    loan_purpose = float(loan_purpose_entry.get())\n",
    "    annual_income = float(annual_income_entry.get())\n",
    "    term = float(term_entry.get())\n",
    "    \n",
    "    # Prepare the data for prediction (ensure the order and scaling are correct)\n",
    "    input_data = [interest_rate, verified_income, loan_purpose, annual_income, term]\n",
    "    \n",
    "    # Reshape data for the model if necessary and predict\n",
    "    prediction = gbm.predict([input_data])\n",
    "    \n",
    "    # Display the prediction\n",
    "    prediction_label.config(text=f\"Predicted Score: {prediction[0]}\")\n",
    "\n",
    "# Set up the GUI\n",
    "root = tk.Tk()\n",
    "root.title(\"Loan Grade Prediction\")\n",
    "\n",
    "# Create and place entry widgets for the features\n",
    "interest_rate_entry = ttk.Entry(root)\n",
    "interest_rate_entry.grid(row=0, column=1)\n",
    "ttk.Label(root, text=\"Interest Rate (0-30%):\").grid(row=0, column=0)\n",
    "ttk.Label(root, text=\"The annual interest rate for the loan, expressed as a percentage\").grid(row=0, column=2)\n",
    "\n",
    "verified_income_entry = ttk.Entry(root)\n",
    "verified_income_entry.grid(row=1, column=1)\n",
    "ttk.Label(root, text=\"Verified Income (0-2):\").grid(row=1, column=0)\n",
    "ttk.Label(root, text=\"0: not verified, 1: source verified, 2: verified\").grid(row=1, column=2)\n",
    "\n",
    "loan_purpose_entry = ttk.Entry(root)\n",
    "loan_purpose_entry.grid(row=2, column=1)\n",
    "ttk.Label(root, text=\"Loan Purpose (0-7):\").grid(row=2, column=0)\n",
    "ttk.Label(root, text=\"0: car, 1: credic card, 2: debt condolidation, 3: home improvment, 4: house, 5: other, 6: renewable energy, 7: small business\").grid(row=2, column=2)\n",
    "\n",
    "annual_income_entry = ttk.Entry(root)\n",
    "annual_income_entry.grid(row=3, column=1)\n",
    "ttk.Label(root, text=\"Annual Income ($):\").grid(row=3, column=0)\n",
    "ttk.Label(root, text=\"The annual income of the applicant in dollars\").grid(row=3, column=2)\n",
    "\n",
    "term_entry = ttk.Entry(root)\n",
    "term_entry.grid(row=4, column=1)\n",
    "ttk.Label(root, text=\"Term (months):\").grid(row=4, column=0)\n",
    "ttk.Label(root, text=\"The term of the loan in months\").grid(row=4, column=2)\n",
    "\n",
    "# Prediction button\n",
    "predict_button = ttk.Button(root, text=\"Predict Grade\", command=predict_score)\n",
    "predict_button.grid(row=5, column=0, columnspan=2)\n",
    "\n",
    "# Label to display the prediction\n",
    "prediction_label = ttk.Label(root, text=\"Predicted Score: \")\n",
    "prediction_label.grid(row=6, column=0, columnspan=2)\n",
    "\n",
    "root.mainloop()"
   ]
  }
 ],
 "metadata": {
  "kernelspec": {
   "display_name": "Python 3 (ipykernel)",
   "language": "python",
   "name": "python3"
  },
  "language_info": {
   "codemirror_mode": {
    "name": "ipython",
    "version": 3
   },
   "file_extension": ".py",
   "mimetype": "text/x-python",
   "name": "python",
   "nbconvert_exporter": "python",
   "pygments_lexer": "ipython3",
   "version": "3.9.12"
  }
 },
 "nbformat": 4,
 "nbformat_minor": 5
}
