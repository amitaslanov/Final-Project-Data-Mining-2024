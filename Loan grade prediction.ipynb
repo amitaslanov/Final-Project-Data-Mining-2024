{
 "cells": [
  {
   "cell_type": "markdown",
   "id": "37cbb588-09a3-4fa3-be80-f3f7b833c13f",
   "metadata": {},
   "source": [
    "Importing The Data"
   ]
  },
  {
   "cell_type": "code",
   "execution_count": 4,
   "id": "21bc720d-bb16-425f-bf7e-fc7a148fb5c0",
   "metadata": {},
   "outputs": [
    {
     "data": {
      "text/html": [
       "<div>\n",
       "<style scoped>\n",
       "    .dataframe tbody tr th:only-of-type {\n",
       "        vertical-align: middle;\n",
       "    }\n",
       "\n",
       "    .dataframe tbody tr th {\n",
       "        vertical-align: top;\n",
       "    }\n",
       "\n",
       "    .dataframe thead th {\n",
       "        text-align: right;\n",
       "    }\n",
       "</style>\n",
       "<table border=\"1\" class=\"dataframe\">\n",
       "  <thead>\n",
       "    <tr style=\"text-align: right;\">\n",
       "      <th></th>\n",
       "      <th>state</th>\n",
       "      <th>emp_length</th>\n",
       "      <th>term</th>\n",
       "      <th>homeownership</th>\n",
       "      <th>annual_income</th>\n",
       "      <th>verified_income</th>\n",
       "      <th>debt_to_income</th>\n",
       "      <th>total_credit_limit</th>\n",
       "      <th>total_credit_utilized</th>\n",
       "      <th>num_cc_carrying_balance</th>\n",
       "      <th>loan_purpose</th>\n",
       "      <th>loan_amount</th>\n",
       "      <th>grade</th>\n",
       "      <th>interest_rate</th>\n",
       "      <th>public_record_bankrupt</th>\n",
       "      <th>loan_status</th>\n",
       "      <th>has_second_income</th>\n",
       "      <th>total_income</th>\n",
       "    </tr>\n",
       "  </thead>\n",
       "  <tbody>\n",
       "    <tr>\n",
       "      <th>0</th>\n",
       "      <td>NJ</td>\n",
       "      <td>3.0</td>\n",
       "      <td>60</td>\n",
       "      <td>rent</td>\n",
       "      <td>59000</td>\n",
       "      <td>Not Verified</td>\n",
       "      <td>0.557525</td>\n",
       "      <td>95131</td>\n",
       "      <td>32894</td>\n",
       "      <td>8</td>\n",
       "      <td>debt_consolidation</td>\n",
       "      <td>22000</td>\n",
       "      <td>B</td>\n",
       "      <td>10.90</td>\n",
       "      <td>0</td>\n",
       "      <td>Current</td>\n",
       "      <td>False</td>\n",
       "      <td>59000</td>\n",
       "    </tr>\n",
       "    <tr>\n",
       "      <th>1</th>\n",
       "      <td>CA</td>\n",
       "      <td>10.0</td>\n",
       "      <td>36</td>\n",
       "      <td>rent</td>\n",
       "      <td>60000</td>\n",
       "      <td>Not Verified</td>\n",
       "      <td>1.305683</td>\n",
       "      <td>51929</td>\n",
       "      <td>78341</td>\n",
       "      <td>2</td>\n",
       "      <td>credit_card</td>\n",
       "      <td>6000</td>\n",
       "      <td>B</td>\n",
       "      <td>9.92</td>\n",
       "      <td>1</td>\n",
       "      <td>Current</td>\n",
       "      <td>False</td>\n",
       "      <td>60000</td>\n",
       "    </tr>\n",
       "    <tr>\n",
       "      <th>2</th>\n",
       "      <td>SC</td>\n",
       "      <td>NaN</td>\n",
       "      <td>36</td>\n",
       "      <td>mortgage</td>\n",
       "      <td>75000</td>\n",
       "      <td>Verified</td>\n",
       "      <td>1.056280</td>\n",
       "      <td>301373</td>\n",
       "      <td>79221</td>\n",
       "      <td>14</td>\n",
       "      <td>debt_consolidation</td>\n",
       "      <td>25000</td>\n",
       "      <td>E</td>\n",
       "      <td>26.30</td>\n",
       "      <td>0</td>\n",
       "      <td>Current</td>\n",
       "      <td>False</td>\n",
       "      <td>75000</td>\n",
       "    </tr>\n",
       "    <tr>\n",
       "      <th>3</th>\n",
       "      <td>CA</td>\n",
       "      <td>0.0</td>\n",
       "      <td>36</td>\n",
       "      <td>rent</td>\n",
       "      <td>75000</td>\n",
       "      <td>Not Verified</td>\n",
       "      <td>0.574347</td>\n",
       "      <td>59890</td>\n",
       "      <td>43076</td>\n",
       "      <td>10</td>\n",
       "      <td>credit_card</td>\n",
       "      <td>6000</td>\n",
       "      <td>B</td>\n",
       "      <td>9.92</td>\n",
       "      <td>0</td>\n",
       "      <td>Current</td>\n",
       "      <td>False</td>\n",
       "      <td>75000</td>\n",
       "    </tr>\n",
       "    <tr>\n",
       "      <th>4</th>\n",
       "      <td>OH</td>\n",
       "      <td>4.0</td>\n",
       "      <td>60</td>\n",
       "      <td>mortgage</td>\n",
       "      <td>254000</td>\n",
       "      <td>Not Verified</td>\n",
       "      <td>0.238150</td>\n",
       "      <td>422619</td>\n",
       "      <td>60490</td>\n",
       "      <td>2</td>\n",
       "      <td>home_improvement</td>\n",
       "      <td>25000</td>\n",
       "      <td>B</td>\n",
       "      <td>9.43</td>\n",
       "      <td>0</td>\n",
       "      <td>Current</td>\n",
       "      <td>False</td>\n",
       "      <td>254000</td>\n",
       "    </tr>\n",
       "  </tbody>\n",
       "</table>\n",
       "</div>"
      ],
      "text/plain": [
       "  state  emp_length  term homeownership  annual_income verified_income  \\\n",
       "0    NJ         3.0    60          rent          59000    Not Verified   \n",
       "1    CA        10.0    36          rent          60000    Not Verified   \n",
       "2    SC         NaN    36      mortgage          75000        Verified   \n",
       "3    CA         0.0    36          rent          75000    Not Verified   \n",
       "4    OH         4.0    60      mortgage         254000    Not Verified   \n",
       "\n",
       "   debt_to_income  total_credit_limit  total_credit_utilized  \\\n",
       "0        0.557525               95131                  32894   \n",
       "1        1.305683               51929                  78341   \n",
       "2        1.056280              301373                  79221   \n",
       "3        0.574347               59890                  43076   \n",
       "4        0.238150              422619                  60490   \n",
       "\n",
       "   num_cc_carrying_balance        loan_purpose  loan_amount grade  \\\n",
       "0                        8  debt_consolidation        22000     B   \n",
       "1                        2         credit_card         6000     B   \n",
       "2                       14  debt_consolidation        25000     E   \n",
       "3                       10         credit_card         6000     B   \n",
       "4                        2    home_improvement        25000     B   \n",
       "\n",
       "   interest_rate  public_record_bankrupt loan_status  has_second_income  \\\n",
       "0          10.90                       0     Current              False   \n",
       "1           9.92                       1     Current              False   \n",
       "2          26.30                       0     Current              False   \n",
       "3           9.92                       0     Current              False   \n",
       "4           9.43                       0     Current              False   \n",
       "\n",
       "   total_income  \n",
       "0         59000  \n",
       "1         60000  \n",
       "2         75000  \n",
       "3         75000  \n",
       "4        254000  "
      ]
     },
     "execution_count": 4,
     "metadata": {},
     "output_type": "execute_result"
    }
   ],
   "source": [
    "import pandas as pd\n",
    "import numpy as np\n",
    "from sklearn.model_selection import train_test_split\n",
    "from sklearn.ensemble import RandomForestClassifier, GradientBoostingClassifier, AdaBoostClassifier\n",
    "from sklearn.metrics import accuracy_score, f1_score\n",
    "from sklearn.preprocessing import LabelEncoder\n",
    "from sklearn.metrics import accuracy_score, f1_score, recall_score, precision_score\n",
    "\n",
    "url = 'https://github.com/amitaslanov/Final-Project-Data-Mining-2024/raw/main/LoanData.csv'\n",
    "\n",
    "data = pd.read_csv(url)\n",
    "\n",
    "data.head()"
   ]
  },
  {
   "cell_type": "code",
   "execution_count": 5,
   "id": "378ed33a-e9c8-4ddb-b1c3-e1e48bc13bd5",
   "metadata": {},
   "outputs": [],
   "source": [
    "# Handle missing values\n",
    "data = data.dropna()  "
   ]
  },
  {
   "cell_type": "code",
   "execution_count": 6,
   "id": "640c7e9f-729c-4696-84fc-c1deec6e1c31",
   "metadata": {
    "tags": []
   },
   "outputs": [],
   "source": [
    "# Convert categorical variables to numeric\n",
    "\n",
    "le = LabelEncoder()\n",
    "data['state'] = le.fit_transform(data['state'])\n",
    "data['emp_length'] = le.fit_transform(data['emp_length'])\n",
    "data['homeownership'] = le.fit_transform(data['homeownership'])\n",
    "data['verified_income'] = le.fit_transform(data['verified_income'])\n",
    "data['loan_purpose'] = le.fit_transform(data['loan_purpose'])\n",
    "data['loan_status'] = le.fit_transform(data['loan_status'])\n",
    "data['has_second_income'] = le.fit_transform(data['has_second_income'])\n",
    "\n",
    "# Encoding the 'grade' column which is our target\n",
    "data['grade'] = le.fit_transform(data['grade'])\n",
    "\n",
    "# Split the dataset into features and target variable\n",
    "X = data.drop('grade', axis=1)\n",
    "y = data['grade']\n",
    "\n",
    "# Split the data into training and testing sets\n",
    "X_train, X_test, y_train, y_test = train_test_split(X, y, test_size=0.2, random_state=42)"
   ]
  },
  {
   "cell_type": "code",
   "execution_count": 23,
   "id": "abfa4577-bff7-4204-95b3-54981979e1a2",
   "metadata": {},
   "outputs": [
    {
     "name": "stdout",
     "output_type": "stream",
     "text": [
      "state                      0.152714\n",
      "emp_length                -0.069647\n",
      "term                       0.282028\n",
      "homeownership             -0.103776\n",
      "annual_income             -0.196945\n",
      "verified_income            0.333457\n",
      "debt_to_income             0.095841\n",
      "total_credit_limit        -0.101229\n",
      "total_credit_utilized      0.089326\n",
      "num_cc_carrying_balance    0.125327\n",
      "loan_purpose              -0.357556\n",
      "loan_amount                0.169523\n",
      "grade                      1.000000\n",
      "interest_rate              0.969820\n",
      "public_record_bankrupt     0.005691\n",
      "loan_status                0.092741\n",
      "has_second_income          0.109733\n",
      "total_income              -0.114310\n",
      "Name: grade, dtype: float64\n"
     ]
    },
    {
     "data": {
      "image/png": "[encoded data removed]",
      "text/plain": [
       "<Figure size 576x432 with 1 Axes>"
      ]
     },
     "metadata": {
      "needs_background": "light"
     },
     "output_type": "display_data"
    }
   ],
   "source": [
    "# Calculate the correlation matrix\n",
    "correlation_matrix = data.corr()\n",
    "\n",
    "# Extract the correlations with the 'grade' column\n",
    "target_correlation = correlation_matrix['grade']\n",
    "\n",
    "# Display the correlation values between features and 'grade'\n",
    "print(target_correlation)\n",
    "\n",
    "# Optionally, you can plot these correlations for better visualization\n",
    "plt.figure(figsize=(8, 6))\n",
    "target_correlation.drop('grade').plot(kind='bar')\n",
    "plt.title('Correlation between Features and Grade')\n",
    "plt.ylabel('Correlation Coefficient')\n",
    "plt.show()"
   ]
  },
  {
   "cell_type": "code",
   "execution_count": 24,
   "id": "eba4371b-c713-4b97-9abc-b985384ec5f6",
   "metadata": {},
   "outputs": [
    {
     "name": "stdout",
     "output_type": "stream",
     "text": [
      "grade            1.000000\n",
      "interest_rate    0.969820\n",
      "loan_purpose     0.357556\n",
      "Name: grade, dtype: float64\n"
     ]
    }
   ],
   "source": [
    "# Get the top 3 features with the highest absolute correlation values\n",
    "top_3_correlated_features = target_correlation.abs().sort_values(ascending=False).head(3)\n",
    "\n",
    "# Display the top 3 features and their correlation values\n",
    "print(top_3_correlated_features)"
   ]
  },
  {
   "cell_type": "code",
   "execution_count": 7,
   "id": "49c7e152-23a5-42d5-b99a-f7f4b4c09fb1",
   "metadata": {},
   "outputs": [
    {
     "name": "stdout",
     "output_type": "stream",
     "text": [
      "Random Forest: Accuracy = 0.8, F1 Score = 0.8, Recall = 0.8, precision = 0.8\n"
     ]
    }
   ],
   "source": [
    "# Train the Random Forest model\n",
    "random_forest = RandomForestClassifier(random_state=42)\n",
    "random_forest.fit(X_train, y_train)\n",
    "\n",
    "# Make predictions with the Random Forest model\n",
    "rf_predictions = random_forest.predict(X_test)\n",
    "\n",
    "# Calculate probabilities for ROC-AUC\n",
    "rf_probabilities = random_forest.predict_proba(X_test)\n",
    "\n",
    "# Get unique classes\n",
    "unique_classes = np.unique(np.concatenate((y_train, y_test)))\n",
    "\n",
    "# Evaluate the Random Forest model's performance\n",
    "rf_accuracy = accuracy_score(y_test, rf_predictions)\n",
    "rf_f1 = f1_score(y_test, rf_predictions, average='weighted')\n",
    "rf_recall = recall_score(y_test, rf_predictions, average='weighted')\n",
    "rf_precision = precision_score(y_test, rf_predictions, average='weighted')\n",
    "\n",
    "# Print the AdaBoost model's performance metrics\n",
    "print(f\"Random Forest: Accuracy = {rf_accuracy}, F1 Score = {rf_f1}, Recall = {rf_recall}, precision = {rf_precision}\")"
   ]
  },
  {
   "cell_type": "code",
   "execution_count": 8,
   "id": "6ef0b157-e1cf-404f-ab69-314f0432807a",
   "metadata": {},
   "outputs": [
    {
     "name": "stdout",
     "output_type": "stream",
     "text": [
      "GBM: Accuracy = 0.9, F1 Score = 0.9028571428571428, Recall = 0.9, precision = 0.9333333333333333\n"
     ]
    }
   ],
   "source": [
    "# Train the GBM model\n",
    "gbm = GradientBoostingClassifier(random_state=42)\n",
    "gbm.fit(X_train, y_train)\n",
    "\n",
    "# Make predictions with the GBM model\n",
    "gbm_predictions = gbm.predict(X_test)\n",
    "\n",
    "# Evaluate the GBM model's performance\n",
    "gbm_accuracy = accuracy_score(y_test, gbm_predictions)\n",
    "gbm_f1 = f1_score(y_test, gbm_predictions, average='weighted')\n",
    "gbm_recall = recall_score(y_test, gbm_predictions, average='weighted')\n",
    "gbm_precision = precision_score(y_test, gbm_predictions, average='weighted')\n",
    "\n",
    "# Print the GBM model's performance metrics\n",
    "print(f\"GBM: Accuracy = {gbm_accuracy}, F1 Score = {gbm_f1}, Recall = {gbm_recall}, precision = {gbm_precision}\")"
   ]
  },
  {
   "cell_type": "code",
   "execution_count": 9,
   "id": "455c9d64-57b2-4de6-8501-3a5c62e07950",
   "metadata": {},
   "outputs": [
    {
     "name": "stdout",
     "output_type": "stream",
     "text": [
      "AdaBoost: Accuracy = 0.8, F1 Score = 0.72, Recall = 0.8, precision = 0.6666666666666666\n"
     ]
    },
    {
     "name": "stderr",
     "output_type": "stream",
     "text": [
      "C:\\Users\\amits\\anaconda3\\lib\\site-packages\\sklearn\\metrics\\_classification.py:1318: UndefinedMetricWarning: Precision is ill-defined and being set to 0.0 in labels with no predicted samples. Use `zero_division` parameter to control this behavior.\n",
      "  _warn_prf(average, modifier, msg_start, len(result))\n"
     ]
    }
   ],
   "source": [
    "# Train the AdaBoost model\n",
    "adaboost = AdaBoostClassifier(random_state=42)\n",
    "adaboost.fit(X_train, y_train)\n",
    "\n",
    "# Make predictions with the AdaBoost model\n",
    "adaboost_predictions = adaboost.predict(X_test)\n",
    "\n",
    "# Evaluate the AdaBoost model's performance\n",
    "adaboost_accuracy = accuracy_score(y_test, adaboost_predictions)\n",
    "adaboost_f1 = f1_score(y_test, adaboost_predictions, average='weighted')\n",
    "adaboost_recall = recall_score(y_test, adaboost_predictions, average='weighted')\n",
    "adaboost_precision = precision_score(y_test, adaboost_predictions, average='weighted')\n",
    "\n",
    "# Print the AdaBoost model's performance metrics\n",
    "print(f\"AdaBoost: Accuracy = {adaboost_accuracy}, F1 Score = {adaboost_f1}, Recall = {adaboost_recall}, precision = {adaboost_precision}\")"
   ]
  },
  {
   "cell_type": "code",
   "execution_count": 10,
   "id": "3599c4f4-3b17-47f0-b5af-71eda3f44b48",
   "metadata": {
    "tags": []
   },
   "outputs": [
    {
     "name": "stdout",
     "output_type": "stream",
     "text": [
      "Random Forest: Accuracy = 0.8, F1 Score = 0.8, Recall = 0.8, precision = 0.8\n",
      "GBM: Accuracy = 0.9, F1 Score = 0.9028571428571428, Recall = 0.9, precision = 0.9333333333333333\n",
      "AdaBoost: Accuracy = 0.8, F1 Score = 0.72, Recall = 0.8, precision = 0.6666666666666666\n"
     ]
    },
    {
     "name": "stderr",
     "output_type": "stream",
     "text": [
      "C:\\Users\\amits\\anaconda3\\lib\\site-packages\\sklearn\\metrics\\_classification.py:1318: UndefinedMetricWarning: Precision is ill-defined and being set to 0.0 in labels with no predicted samples. Use `zero_division` parameter to control this behavior.\n",
      "  _warn_prf(average, modifier, msg_start, len(result))\n"
     ]
    }
   ],
   "source": [
    "# Evaluate the models' performance\n",
    "rf_accuracy = accuracy_score(y_test, rf_predictions)\n",
    "gbm_accuracy = accuracy_score(y_test, gbm_predictions)\n",
    "adaboost_accuracy = accuracy_score(y_test, adaboost_predictions)\n",
    "\n",
    "rf_f1 = f1_score(y_test, rf_predictions, average='weighted')\n",
    "gbm_f1 = f1_score(y_test, gbm_predictions, average='weighted')\n",
    "adaboost_f1 = f1_score(y_test, adaboost_predictions, average='weighted')\n",
    "\n",
    "rf_recall = recall_score(y_test, rf_predictions, average='weighted')\n",
    "gbm_recall = recall_score(y_test, gbm_predictions, average='weighted')\n",
    "adaboost_recall = recall_score(y_test, adaboost_predictions, average='weighted')\n",
    "\n",
    "rf_precision = precision_score(y_test, rf_predictions, average='weighted')\n",
    "gbm_precision = precision_score(y_test, gbm_predictions, average='weighted')\n",
    "adaboost_precision = precision_score(y_test, adaboost_predictions, average='weighted')\n",
    "\n",
    "# Print the performance metrics for each model\n",
    "print(f\"Random Forest: Accuracy = {rf_accuracy}, F1 Score = {rf_f1}, Recall = {rf_recall}, precision = {rf_precision}\")\n",
    "print(f\"GBM: Accuracy = {gbm_accuracy}, F1 Score = {gbm_f1}, Recall = {gbm_recall}, precision = {gbm_precision}\")\n",
    "print(f\"AdaBoost: Accuracy = {adaboost_accuracy}, F1 Score = {adaboost_f1}, Recall = {adaboost_recall}, precision = {adaboost_precision}\")\n"
   ]
  },
  {
   "cell_type": "code",
   "execution_count": 15,
   "id": "70968240-987d-451b-af2d-57666b059852",
   "metadata": {},
   "outputs": [
    {
     "name": "stderr",
     "output_type": "stream",
     "text": [
      "C:\\Users\\amits\\anaconda3\\lib\\site-packages\\sklearn\\metrics\\_classification.py:1318: UndefinedMetricWarning: Precision is ill-defined and being set to 0.0 in labels with no predicted samples. Use `zero_division` parameter to control this behavior.\n",
      "  _warn_prf(average, modifier, msg_start, len(result))\n"
     ]
    }
   ],
   "source": [
    "from sklearn.metrics import accuracy_score, f1_score, recall_score, precision_score\n",
    "import pandas as pd\n",
    "\n",
    "# Assuming y_test, rf_predictions, gbm_predictions, adaboost_predictions are defined\n",
    "\n",
    "# Calculate metrics\n",
    "metrics = {\n",
    "    'Accuracy': {\n",
    "        'Random Forest': accuracy_score(y_test, rf_predictions),\n",
    "        'GBM': accuracy_score(y_test, gbm_predictions),\n",
    "        'AdaBoost': accuracy_score(y_test, adaboost_predictions),\n",
    "    },\n",
    "    'F1 Score': {\n",
    "        'Random Forest': f1_score(y_test, rf_predictions, average='weighted'),\n",
    "        'GBM': f1_score(y_test, gbm_predictions, average='weighted'),\n",
    "        'AdaBoost': f1_score(y_test, adaboost_predictions, average='weighted'),\n",
    "    },\n",
    "    'Recall': {\n",
    "        'Random Forest': recall_score(y_test, rf_predictions, average='weighted'),\n",
    "        'GBM': recall_score(y_test, gbm_predictions, average='weighted'),\n",
    "        'AdaBoost': recall_score(y_test, adaboost_predictions, average='weighted'),\n",
    "    },\n",
    "    'Precision': {\n",
    "        'Random Forest': precision_score(y_test, rf_predictions, average='weighted'),\n",
    "        'GBM': precision_score(y_test, gbm_predictions, average='weighted'),\n",
    "        'AdaBoost': precision_score(y_test, adaboost_predictions, average='weighted'),\n",
    "    }\n",
    "}\n",
    "\n",
    "# Create a DataFrame from the metrics\n",
    "df_metrics = pd.DataFrame(metrics)"
   ]
  },
  {
   "cell_type": "code",
   "execution_count": 20,
   "id": "9c17c45c-1a31-40d5-b787-5d1fdc08614b",
   "metadata": {},
   "outputs": [
    {
     "data": {
      "image/png": "[encoded data removed]",
      "text/plain": [
       "<Figure size 864x576 with 1 Axes>"
      ]
     },
     "metadata": {
      "needs_background": "light"
     },
     "output_type": "display_data"
    }
   ],
   "source": [
    "import matplotlib.pyplot as plt\n",
    "import numpy as np\n",
    "\n",
    "# Assuming df_metrics is already defined from the previous step\n",
    "\n",
    "# Set the positions and width for the bars\n",
    "positions = np.arange(len(df_metrics.columns))\n",
    "bar_width = 0.25  # Width of bars\n",
    "\n",
    "# Define colors for each model using the green palette\n",
    "colors = ['#aec7e8', '#08306b', '#1f77b4']  # Light green, medium green, and dark green\n",
    "\n",
    "# Plotting\n",
    "plt.figure(figsize=(12, 8))\n",
    "\n",
    "# Plot each model's metrics with the specified colors\n",
    "for i, (model, color) in enumerate(zip(df_metrics.index, colors)):\n",
    "    plt.bar(positions + i * bar_width, df_metrics.loc[model], width=bar_width, label=model, color=color)\n",
    "\n",
    "plt.title('Model Comparison on Evaluation Metrics')\n",
    "plt.xticks(positions + bar_width, df_metrics.columns)\n",
    "plt.ylabel('Score')\n",
    "plt.ylim(0, 1)  # Assuming the scores are between 0 and 1\n",
    "plt.legend()\n",
    "\n",
    "plt.tight_layout()\n",
    "plt.show()"
   ]
  },
  {
   "cell_type": "code",
   "execution_count": 28,
   "id": "df4c82f2-7a85-491a-b290-57f3aeb3d5a6",
   "metadata": {},
   "outputs": [
    {
     "data": {
      "image/png": "[encoded data removed]",
      "text/plain": [
       "<Figure size 720x432 with 1 Axes>"
      ]
     },
     "metadata": {
      "needs_background": "light"
     },
     "output_type": "display_data"
    },
    {
     "data": {
      "image/png": "[encoded data removed]",
      "text/plain": [
       "<Figure size 720x432 with 1 Axes>"
      ]
     },
     "metadata": {
      "needs_background": "light"
     },
     "output_type": "display_data"
    },
    {
     "data": {
      "image/png": "[encoded data removed]",
      "text/plain": [
       "<Figure size 720x432 with 1 Axes>"
      ]
     },
     "metadata": {
      "needs_background": "light"
     },
     "output_type": "display_data"
    }
   ],
   "source": [
    "import matplotlib.pyplot as plt\n",
    "\n",
    "# Store the performance metrics for each model\n",
    "models_metrics = {\n",
    "    'Random Forest': [rf_accuracy, rf_f1, rf_recall, rf_precision],\n",
    "    'GBM': [gbm_accuracy, gbm_f1, gbm_recall, gbm_precision],\n",
    "    'AdaBoost': [adaboost_accuracy, adaboost_f1, adaboost_recall, adaboost_precision]\n",
    "}\n",
    "\n",
    "# Define the metrics and colors\n",
    "metrics = ['Accuracy', 'F1 Score', 'Recall', 'Precision']\n",
    "colors = ['#aec7e8', '#08306b', '#1f77b4']\n",
    "\n",
    "# Create a bar chart for each algorithm\n",
    "for model, values in models_metrics.items():\n",
    "    plt.figure(figsize=(10, 6))\n",
    "    bars = plt.bar(metrics, values, color=colors)\n",
    "    plt.title(f'{model} Performance Metrics')\n",
    "    plt.ylabel('Score')\n",
    "    plt.ylim(0, 1)\n",
    "\n",
    "    # Annotate bars with the score\n",
    "    for bar, value in zip(bars, values):\n",
    "        yval = bar.get_height()\n",
    "        plt.text(bar.get_x() + bar.get_width()/2, yval + 0.01, round(value, 2), ha='center', va='bottom')\n",
    "\n",
    "    plt.show()"
   ]
  },
  {
   "cell_type": "code",
   "execution_count": null,
   "id": "71ee6400-c32d-48f7-be98-9b2d8f04f5e4",
   "metadata": {},
   "outputs": [],
   "source": []
  }
 ],
 "metadata": {
  "kernelspec": {
   "display_name": "Python 3 (ipykernel)",
   "language": "python",
   "name": "python3"
  },
  "language_info": {
   "codemirror_mode": {
    "name": "ipython",
    "version": 3
   },
   "file_extension": ".py",
   "mimetype": "text/x-python",
   "name": "python",
   "nbconvert_exporter": "python",
   "pygments_lexer": "ipython3",
   "version": "3.9.12"
  }
 },
 "nbformat": 4,
 "nbformat_minor": 5
}
